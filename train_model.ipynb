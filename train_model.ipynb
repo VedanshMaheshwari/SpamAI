{
 "cells": [
  {
   "cell_type": "code",
   "execution_count": 1,
   "id": "9819f07f",
   "metadata": {},
   "outputs": [],
   "source": [
    "import pandas as pd\n",
    "import numpy as np\n",
    "from sklearn.model_selection import train_test_split\n",
    "from sklearn.feature_extraction.text import TfidfVectorizer\n",
    "from sklearn.linear_model import LogisticRegression\n",
    "from sklearn.metrics import accuracy_score, precision_score, recall_score, f1_score, classification_report\n",
    "import joblib\n",
    "import re\n",
    "import os"
   ]
  },
  {
   "cell_type": "markdown",
   "id": "5a560f22",
   "metadata": {},
   "source": [
    "# 1.Data Preprocessing"
   ]
  },
  {
   "cell_type": "code",
   "execution_count": 2,
   "id": "0b1feca6",
   "metadata": {},
   "outputs": [],
   "source": [
    "# 1. Load dataset\n",
    "df = pd.read_csv('data/processed_data.csv')\n",
    "\n",
    "\n",
    "# 2. Combine subject and message, then clean text data\n",
    "def clean_text(text):\n",
    "    text = str(text)\n",
    "    text = text.lower()\n",
    "    text = re.sub(r'[^a-zA-Z0-9\\s]', '', text)\n",
    "    text = re.sub(r'\\s+', ' ', text).strip()\n",
    "    return text"
   ]
  },
  {
   "cell_type": "code",
   "execution_count": 3,
   "id": "610ed8c9",
   "metadata": {},
   "outputs": [],
   "source": [
    "# Combine subject and message columns\n",
    "df['combined_text'] = (df['subject'].fillna('') + ' ' + df['message'].fillna('')).apply(clean_text)\n",
    "\n",
    "\n",
    "# 3. Feature extraction (TF-IDF)\n",
    "vectorizer = TfidfVectorizer(stop_words='english', max_features=5000)\n",
    "X = vectorizer.fit_transform(df['combined_text'])\n",
    "\n",
    "# 4. Target variable\n",
    "y = df['label']\n"
   ]
  },
  {
   "cell_type": "code",
   "execution_count": 5,
   "id": "6e2757c8",
   "metadata": {},
   "outputs": [],
   "source": [
    "# 4. Split dataset\n",
    "X_train, X_test, y_train, y_test = train_test_split(X, y, test_size=0.2, random_state=42)\n",
    "\n"
   ]
  },
  {
   "cell_type": "markdown",
   "id": "b9bb9e31",
   "metadata": {},
   "source": [
    "# 2. Model Training"
   ]
  },
  {
   "cell_type": "code",
   "execution_count": 6,
   "id": "d3fe1702",
   "metadata": {},
   "outputs": [
    {
     "name": "stdout",
     "output_type": "stream",
     "text": [
      "Accuracy: 0.9917130734553169\n",
      "Precision: 0.9911565977742448\n",
      "Recall: 0.9964039556487864\n",
      "F1 Score: 0.9937733499377335\n",
      "\n",
      "Classification Report:\n",
      "               precision    recall  f1-score   support\n",
      "\n",
      "           0       0.99      0.98      0.99      5073\n",
      "           1       0.99      1.00      0.99     10011\n",
      "\n",
      "    accuracy                           0.99     15084\n",
      "   macro avg       0.99      0.99      0.99     15084\n",
      "weighted avg       0.99      0.99      0.99     15084\n",
      "\n"
     ]
    }
   ],
   "source": [
    "# 5. Train model\n",
    "model = LogisticRegression(max_iter=1000)\n",
    "model.fit(X_train, y_train)\n",
    "\n",
    "\n",
    "# 6. Evaluate model\n",
    "y_pred = model.predict(X_test)\n",
    "print('Accuracy:', accuracy_score(y_test, y_pred))\n",
    "print('Precision:', precision_score(y_test, y_pred))\n",
    "print('Recall:', recall_score(y_test, y_pred))\n",
    "print('F1 Score:', f1_score(y_test, y_pred))\n",
    "print('\\nClassification Report:\\n', classification_report(y_test, y_pred))"
   ]
  },
  {
   "cell_type": "code",
   "execution_count": 7,
   "id": "26ef7e49",
   "metadata": {},
   "outputs": [
    {
     "name": "stdout",
     "output_type": "stream",
     "text": [
      "Model and vectorizer saved in /model directory.\n"
     ]
    }
   ],
   "source": [
    "\n",
    "# 7. Save model and vectorizer\n",
    "os.makedirs('model', exist_ok=True)\n",
    "joblib.dump(model, 'model/spam_classifier.joblib')\n",
    "joblib.dump(vectorizer, 'model/tfidf_vectorizer.joblib')\n",
    "\n",
    "print('Model and vectorizer saved in /model directory.')\n"
   ]
  },
  {
   "cell_type": "code",
   "execution_count": null,
   "id": "9cce2a18",
   "metadata": {},
   "outputs": [],
   "source": []
  }
 ],
 "metadata": {
  "kernelspec": {
   "display_name": ".venv",
   "language": "python",
   "name": "python3"
  },
  "language_info": {
   "codemirror_mode": {
    "name": "ipython",
    "version": 3
   },
   "file_extension": ".py",
   "mimetype": "text/x-python",
   "name": "python",
   "nbconvert_exporter": "python",
   "pygments_lexer": "ipython3",
   "version": "3.12.5"
  }
 },
 "nbformat": 4,
 "nbformat_minor": 5
}
