{
 "cells": [
  {
   "cell_type": "code",
   "execution_count": 15,
   "id": "9819f07f",
   "metadata": {},
   "outputs": [],
   "source": [
    "import pandas as pd\n",
    "import numpy as np\n",
    "from sklearn.model_selection import train_test_split\n",
    "from sklearn.feature_extraction.text import TfidfVectorizer\n",
    "from sklearn.linear_model import LogisticRegression\n",
    "from sklearn.metrics import accuracy_score, precision_score, recall_score, f1_score, classification_report\n",
    "import joblib\n",
    "import re\n",
    "import os"
   ]
  },
  {
   "cell_type": "markdown",
   "id": "5a560f22",
   "metadata": {},
   "source": [
    "# 1.Data Preprocessing"
   ]
  },
  {
   "cell_type": "code",
   "execution_count": 16,
   "id": "0b1feca6",
   "metadata": {},
   "outputs": [],
   "source": [
    "# 1. Load dataset\n",
    "df = pd.read_csv('data/processed_data.csv', encoding='latin1')\n",
    "\n",
    "# 2. Combine subject and message, then clean text data\n",
    "def clean_text(text):\n",
    "    text = str(text)\n",
    "    text = text.lower()\n",
    "    text = re.sub(r'[^a-zA-Z0-9\\s]', '', text)\n",
    "    text = re.sub(r'\\s+', ' ', text).strip()\n",
    "    return text"
   ]
  },
  {
   "cell_type": "code",
   "execution_count": 17,
   "id": "e9cdfa05",
   "metadata": {},
   "outputs": [
    {
     "name": "stdout",
     "output_type": "stream",
     "text": [
      "Label distribution:\n",
      "label\n",
      "1    50199\n",
      "0    25220\n",
      "Name: count, dtype: int64\n"
     ]
    }
   ],
   "source": [
    "# Check label distribution before training\n",
    "print('Label distribution:')\n",
    "print(df['label'].value_counts())\n"
   ]
  },
  {
   "cell_type": "code",
   "execution_count": 18,
   "id": "610ed8c9",
   "metadata": {},
   "outputs": [],
   "source": [
    "# Combine subject and message columns\n",
    "df['combined_text'] = (df['subject'].fillna('') + ' ' + df['message'].fillna('')).apply(clean_text)\n",
    "\n",
    "\n",
    "# 3. Feature extraction (TF-IDF)\n",
    "vectorizer = TfidfVectorizer(stop_words='english', max_features=5000)\n",
    "X = vectorizer.fit_transform(df['combined_text'])\n",
    "\n",
    "# 4. Target variable\n",
    "y = df['label']\n"
   ]
  },
  {
   "cell_type": "code",
   "execution_count": 19,
   "id": "6e2757c8",
   "metadata": {},
   "outputs": [],
   "source": [
    "# 4. Split dataset\n",
    "X_train, X_test, y_train, y_test = train_test_split(X, y, test_size=0.2, random_state=42)\n",
    "\n"
   ]
  },
  {
   "cell_type": "markdown",
   "id": "b9bb9e31",
   "metadata": {},
   "source": [
    "# 2. Model Training"
   ]
  },
  {
   "cell_type": "code",
   "execution_count": 20,
   "id": "d3fe1702",
   "metadata": {},
   "outputs": [
    {
     "name": "stdout",
     "output_type": "stream",
     "text": [
      "Cross-validation F1 scores: [0.99583618 0.99577167 0.99527128 0.99552294 0.99552239]\n",
      "Mean CV F1: 0.9955848928234436\n",
      "Using threshold: 0.5\n",
      "Accuracy: 0.9939671174754707\n",
      "Precision: 0.994532259667959\n",
      "Recall: 0.996414342629482\n",
      "F1 Score: 0.9954724115627643\n",
      "\n",
      "Classification Report:\n",
      "               precision    recall  f1-score   support\n",
      "\n",
      "           0       0.99      0.99      0.99      5044\n",
      "           1       0.99      1.00      1.00     10040\n",
      "\n",
      "    accuracy                           0.99     15084\n",
      "   macro avg       0.99      0.99      0.99     15084\n",
      "weighted avg       0.99      0.99      0.99     15084\n",
      "\n",
      "Confusion Matrix:\n",
      " [[ 4989    55]\n",
      " [   36 10004]]\n",
      "\n",
      "Using threshold: 0.3\n",
      "Accuracy: 0.9909175285070273\n",
      "Precision: 0.9875923190546528\n",
      "Recall: 0.9989043824701195\n",
      "F1 Score: 0.9932161426095568\n",
      "\n",
      "Classification Report:\n",
      "               precision    recall  f1-score   support\n",
      "\n",
      "           0       1.00      0.98      0.99      5044\n",
      "           1       0.99      1.00      0.99     10040\n",
      "\n",
      "    accuracy                           0.99     15084\n",
      "   macro avg       0.99      0.99      0.99     15084\n",
      "weighted avg       0.99      0.99      0.99     15084\n",
      "\n",
      "Confusion Matrix:\n",
      " [[ 4918   126]\n",
      " [   11 10029]]\n",
      "Using threshold: 0.5\n",
      "Accuracy: 0.9939671174754707\n",
      "Precision: 0.994532259667959\n",
      "Recall: 0.996414342629482\n",
      "F1 Score: 0.9954724115627643\n",
      "\n",
      "Classification Report:\n",
      "               precision    recall  f1-score   support\n",
      "\n",
      "           0       0.99      0.99      0.99      5044\n",
      "           1       0.99      1.00      1.00     10040\n",
      "\n",
      "    accuracy                           0.99     15084\n",
      "   macro avg       0.99      0.99      0.99     15084\n",
      "weighted avg       0.99      0.99      0.99     15084\n",
      "\n",
      "Confusion Matrix:\n",
      " [[ 4989    55]\n",
      " [   36 10004]]\n",
      "\n",
      "Using threshold: 0.3\n",
      "Accuracy: 0.9909175285070273\n",
      "Precision: 0.9875923190546528\n",
      "Recall: 0.9989043824701195\n",
      "F1 Score: 0.9932161426095568\n",
      "\n",
      "Classification Report:\n",
      "               precision    recall  f1-score   support\n",
      "\n",
      "           0       1.00      0.98      0.99      5044\n",
      "           1       0.99      1.00      0.99     10040\n",
      "\n",
      "    accuracy                           0.99     15084\n",
      "   macro avg       0.99      0.99      0.99     15084\n",
      "weighted avg       0.99      0.99      0.99     15084\n",
      "\n",
      "Confusion Matrix:\n",
      " [[ 4918   126]\n",
      " [   11 10029]]\n"
     ]
    }
   ],
   "source": [
    "# 3. Feature extraction (TF-IDF) with fewer features\n",
    "vectorizer = TfidfVectorizer(stop_words='english', max_features=1000)\n",
    "X = vectorizer.fit_transform(df['combined_text'])\n",
    "\n",
    "# 4. Target variable\n",
    "y = df['label']\n",
    "\n",
    "# 4. Split dataset (stratified)\n",
    "from sklearn.model_selection import train_test_split, cross_val_score\n",
    "X_train, X_test, y_train, y_test = train_test_split(\n",
    "    X, y, test_size=0.2, random_state=42, stratify=y)\n",
    "\n",
    "# 5. Train RandomForestClassifier with class_weight\n",
    "from sklearn.ensemble import RandomForestClassifier\n",
    "model = RandomForestClassifier(n_estimators=100, class_weight='balanced', random_state=42)\n",
    "model.fit(X_train, y_train)\n",
    "\n",
    "# 6. Cross-validation\n",
    "cv_scores = cross_val_score(model, X_train, y_train, cv=5, scoring='f1')\n",
    "print('Cross-validation F1 scores:', cv_scores)\n",
    "print('Mean CV F1:', cv_scores.mean())\n",
    "\n",
    "# 7. Evaluate model with default threshold\n",
    "from sklearn.metrics import accuracy_score, precision_score, recall_score, f1_score, classification_report, confusion_matrix\n",
    "probs = model.predict_proba(X_test)[:, 1]\n",
    "threshold = 0.5\n",
    "preds = (probs >= threshold).astype(int)\n",
    "print(f'Using threshold: {threshold}')\n",
    "print('Accuracy:', accuracy_score(y_test, preds))\n",
    "print('Precision:', precision_score(y_test, preds))\n",
    "print('Recall:', recall_score(y_test, preds))\n",
    "print('F1 Score:', f1_score(y_test, preds))\n",
    "print('\\nClassification Report:\\n', classification_report(y_test, preds))\n",
    "print('Confusion Matrix:\\n', confusion_matrix(y_test, preds))\n",
    "\n",
    "# 8. Try a lower threshold for imbalanced data\n",
    "threshold = 0.3\n",
    "preds = (probs >= threshold).astype(int)\n",
    "print(f'\\nUsing threshold: {threshold}')\n",
    "print('Accuracy:', accuracy_score(y_test, preds))\n",
    "print('Precision:', precision_score(y_test, preds))\n",
    "print('Recall:', recall_score(y_test, preds))\n",
    "print('F1 Score:', f1_score(y_test, preds))\n",
    "print('\\nClassification Report:\\n', classification_report(y_test, preds))\n",
    "print('Confusion Matrix:\\n', confusion_matrix(y_test, preds))"
   ]
  },
  {
   "cell_type": "code",
   "execution_count": 21,
   "id": "26ef7e49",
   "metadata": {},
   "outputs": [
    {
     "name": "stdout",
     "output_type": "stream",
     "text": [
      "Model and vectorizer saved in /model directory.\n"
     ]
    }
   ],
   "source": [
    "# 8. Save model and vectorizer\n",
    "import os\n",
    "import joblib\n",
    "os.makedirs('model', exist_ok=True)\n",
    "joblib.dump(model, 'model/spam_classifier.joblib')\n",
    "joblib.dump(vectorizer, 'model/tfidf_vectorizer.joblib')\n",
    "print('Model and vectorizer saved in /model directory.')"
   ]
  },
  {
   "cell_type": "code",
   "execution_count": null,
   "id": "fa193e06",
   "metadata": {},
   "outputs": [],
   "source": []
  }
 ],
 "metadata": {
  "kernelspec": {
   "display_name": ".venv",
   "language": "python",
   "name": "python3"
  },
  "language_info": {
   "codemirror_mode": {
    "name": "ipython",
    "version": 3
   },
   "file_extension": ".py",
   "mimetype": "text/x-python",
   "name": "python",
   "nbconvert_exporter": "python",
   "pygments_lexer": "ipython3",
   "version": "3.12.5"
  }
 },
 "nbformat": 4,
 "nbformat_minor": 5
}
